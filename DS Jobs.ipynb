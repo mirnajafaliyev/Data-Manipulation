{
 "cells": [
  {
   "cell_type": "markdown",
   "id": "09440c7e",
   "metadata": {},
   "source": [
    "## DS Jobs"
   ]
  },
  {
   "cell_type": "code",
   "execution_count": 1,
   "id": "6740893a",
   "metadata": {},
   "outputs": [],
   "source": [
    "import pandas as pd\n",
    "import numpy as np\n",
    "from collections import Counter\n",
    "import re"
   ]
  },
  {
   "cell_type": "code",
   "execution_count": 2,
   "id": "e35e0b50",
   "metadata": {},
   "outputs": [
    {
     "name": "stdout",
     "output_type": "stream",
     "text": [
      "(672, 15)\n"
     ]
    },
    {
     "data": {
      "text/html": [
       "<div>\n",
       "<style scoped>\n",
       "    .dataframe tbody tr th:only-of-type {\n",
       "        vertical-align: middle;\n",
       "    }\n",
       "\n",
       "    .dataframe tbody tr th {\n",
       "        vertical-align: top;\n",
       "    }\n",
       "\n",
       "    .dataframe thead th {\n",
       "        text-align: right;\n",
       "    }\n",
       "</style>\n",
       "<table border=\"1\" class=\"dataframe\">\n",
       "  <thead>\n",
       "    <tr style=\"text-align: right;\">\n",
       "      <th></th>\n",
       "      <th>index</th>\n",
       "      <th>Job Title</th>\n",
       "      <th>Salary Estimate</th>\n",
       "      <th>Job Description</th>\n",
       "      <th>Rating</th>\n",
       "      <th>Company Name</th>\n",
       "      <th>Location</th>\n",
       "      <th>Headquarters</th>\n",
       "      <th>Size</th>\n",
       "      <th>Founded</th>\n",
       "      <th>Type of ownership</th>\n",
       "      <th>Industry</th>\n",
       "      <th>Sector</th>\n",
       "      <th>Revenue</th>\n",
       "      <th>Competitors</th>\n",
       "    </tr>\n",
       "  </thead>\n",
       "  <tbody>\n",
       "    <tr>\n",
       "      <th>0</th>\n",
       "      <td>0</td>\n",
       "      <td>Sr Data Scientist</td>\n",
       "      <td>$137K-$171K (Glassdoor est.)</td>\n",
       "      <td>Description\\n\\nThe Senior Data Scientist is re...</td>\n",
       "      <td>3.1</td>\n",
       "      <td>Healthfirst\\n3.1</td>\n",
       "      <td>New York, NY</td>\n",
       "      <td>New York, NY</td>\n",
       "      <td>1001 to 5000 employees</td>\n",
       "      <td>1993</td>\n",
       "      <td>Nonprofit Organization</td>\n",
       "      <td>Insurance Carriers</td>\n",
       "      <td>Insurance</td>\n",
       "      <td>Unknown / Non-Applicable</td>\n",
       "      <td>EmblemHealth, UnitedHealth Group, Aetna</td>\n",
       "    </tr>\n",
       "    <tr>\n",
       "      <th>1</th>\n",
       "      <td>1</td>\n",
       "      <td>Data Scientist</td>\n",
       "      <td>$137K-$171K (Glassdoor est.)</td>\n",
       "      <td>Secure our Nation, Ignite your Future\\n\\nJoin ...</td>\n",
       "      <td>4.2</td>\n",
       "      <td>ManTech\\n4.2</td>\n",
       "      <td>Chantilly, VA</td>\n",
       "      <td>Herndon, VA</td>\n",
       "      <td>5001 to 10000 employees</td>\n",
       "      <td>1968</td>\n",
       "      <td>Company - Public</td>\n",
       "      <td>Research &amp; Development</td>\n",
       "      <td>Business Services</td>\n",
       "      <td>$1 to $2 billion (USD)</td>\n",
       "      <td>-1</td>\n",
       "    </tr>\n",
       "    <tr>\n",
       "      <th>2</th>\n",
       "      <td>2</td>\n",
       "      <td>Data Scientist</td>\n",
       "      <td>$137K-$171K (Glassdoor est.)</td>\n",
       "      <td>Overview\\n\\n\\nAnalysis Group is one of the lar...</td>\n",
       "      <td>3.8</td>\n",
       "      <td>Analysis Group\\n3.8</td>\n",
       "      <td>Boston, MA</td>\n",
       "      <td>Boston, MA</td>\n",
       "      <td>1001 to 5000 employees</td>\n",
       "      <td>1981</td>\n",
       "      <td>Private Practice / Firm</td>\n",
       "      <td>Consulting</td>\n",
       "      <td>Business Services</td>\n",
       "      <td>$100 to $500 million (USD)</td>\n",
       "      <td>-1</td>\n",
       "    </tr>\n",
       "    <tr>\n",
       "      <th>3</th>\n",
       "      <td>3</td>\n",
       "      <td>Data Scientist</td>\n",
       "      <td>$137K-$171K (Glassdoor est.)</td>\n",
       "      <td>JOB DESCRIPTION:\\n\\nDo you have a passion for ...</td>\n",
       "      <td>3.5</td>\n",
       "      <td>INFICON\\n3.5</td>\n",
       "      <td>Newton, MA</td>\n",
       "      <td>Bad Ragaz, Switzerland</td>\n",
       "      <td>501 to 1000 employees</td>\n",
       "      <td>2000</td>\n",
       "      <td>Company - Public</td>\n",
       "      <td>Electrical &amp; Electronic Manufacturing</td>\n",
       "      <td>Manufacturing</td>\n",
       "      <td>$100 to $500 million (USD)</td>\n",
       "      <td>MKS Instruments, Pfeiffer Vacuum, Agilent Tech...</td>\n",
       "    </tr>\n",
       "    <tr>\n",
       "      <th>4</th>\n",
       "      <td>4</td>\n",
       "      <td>Data Scientist</td>\n",
       "      <td>$137K-$171K (Glassdoor est.)</td>\n",
       "      <td>Data Scientist\\nAffinity Solutions / Marketing...</td>\n",
       "      <td>2.9</td>\n",
       "      <td>Affinity Solutions\\n2.9</td>\n",
       "      <td>New York, NY</td>\n",
       "      <td>New York, NY</td>\n",
       "      <td>51 to 200 employees</td>\n",
       "      <td>1998</td>\n",
       "      <td>Company - Private</td>\n",
       "      <td>Advertising &amp; Marketing</td>\n",
       "      <td>Business Services</td>\n",
       "      <td>Unknown / Non-Applicable</td>\n",
       "      <td>Commerce Signals, Cardlytics, Yodlee</td>\n",
       "    </tr>\n",
       "  </tbody>\n",
       "</table>\n",
       "</div>"
      ],
      "text/plain": [
       "   index          Job Title               Salary Estimate  \\\n",
       "0      0  Sr Data Scientist  $137K-$171K (Glassdoor est.)   \n",
       "1      1     Data Scientist  $137K-$171K (Glassdoor est.)   \n",
       "2      2     Data Scientist  $137K-$171K (Glassdoor est.)   \n",
       "3      3     Data Scientist  $137K-$171K (Glassdoor est.)   \n",
       "4      4     Data Scientist  $137K-$171K (Glassdoor est.)   \n",
       "\n",
       "                                     Job Description  Rating  \\\n",
       "0  Description\\n\\nThe Senior Data Scientist is re...     3.1   \n",
       "1  Secure our Nation, Ignite your Future\\n\\nJoin ...     4.2   \n",
       "2  Overview\\n\\n\\nAnalysis Group is one of the lar...     3.8   \n",
       "3  JOB DESCRIPTION:\\n\\nDo you have a passion for ...     3.5   \n",
       "4  Data Scientist\\nAffinity Solutions / Marketing...     2.9   \n",
       "\n",
       "              Company Name       Location            Headquarters  \\\n",
       "0         Healthfirst\\n3.1   New York, NY            New York, NY   \n",
       "1             ManTech\\n4.2  Chantilly, VA             Herndon, VA   \n",
       "2      Analysis Group\\n3.8     Boston, MA              Boston, MA   \n",
       "3             INFICON\\n3.5     Newton, MA  Bad Ragaz, Switzerland   \n",
       "4  Affinity Solutions\\n2.9   New York, NY            New York, NY   \n",
       "\n",
       "                      Size  Founded        Type of ownership  \\\n",
       "0   1001 to 5000 employees     1993   Nonprofit Organization   \n",
       "1  5001 to 10000 employees     1968         Company - Public   \n",
       "2   1001 to 5000 employees     1981  Private Practice / Firm   \n",
       "3    501 to 1000 employees     2000         Company - Public   \n",
       "4      51 to 200 employees     1998        Company - Private   \n",
       "\n",
       "                                Industry             Sector  \\\n",
       "0                     Insurance Carriers          Insurance   \n",
       "1                 Research & Development  Business Services   \n",
       "2                             Consulting  Business Services   \n",
       "3  Electrical & Electronic Manufacturing      Manufacturing   \n",
       "4                Advertising & Marketing  Business Services   \n",
       "\n",
       "                      Revenue  \\\n",
       "0    Unknown / Non-Applicable   \n",
       "1      $1 to $2 billion (USD)   \n",
       "2  $100 to $500 million (USD)   \n",
       "3  $100 to $500 million (USD)   \n",
       "4    Unknown / Non-Applicable   \n",
       "\n",
       "                                         Competitors  \n",
       "0            EmblemHealth, UnitedHealth Group, Aetna  \n",
       "1                                                 -1  \n",
       "2                                                 -1  \n",
       "3  MKS Instruments, Pfeiffer Vacuum, Agilent Tech...  \n",
       "4               Commerce Signals, Cardlytics, Yodlee  "
      ]
     },
     "execution_count": 2,
     "metadata": {},
     "output_type": "execute_result"
    }
   ],
   "source": [
    "df = pd.read_csv('DS Jobs.csv')\n",
    "print(df.shape)\n",
    "df.head()"
   ]
  },
  {
   "cell_type": "code",
   "execution_count": 3,
   "id": "d0d7a6c8",
   "metadata": {},
   "outputs": [],
   "source": [
    "df.drop(columns=['index'], inplace=True)"
   ]
  },
  {
   "cell_type": "code",
   "execution_count": 4,
   "id": "8b91c49c",
   "metadata": {},
   "outputs": [],
   "source": [
    "df.columns = df.columns.str.lower()"
   ]
  },
  {
   "cell_type": "code",
   "execution_count": 5,
   "id": "14f0106c",
   "metadata": {},
   "outputs": [
    {
     "data": {
      "text/html": [
       "<div>\n",
       "<style scoped>\n",
       "    .dataframe tbody tr th:only-of-type {\n",
       "        vertical-align: middle;\n",
       "    }\n",
       "\n",
       "    .dataframe tbody tr th {\n",
       "        vertical-align: top;\n",
       "    }\n",
       "\n",
       "    .dataframe thead th {\n",
       "        text-align: right;\n",
       "    }\n",
       "</style>\n",
       "<table border=\"1\" class=\"dataframe\">\n",
       "  <thead>\n",
       "    <tr style=\"text-align: right;\">\n",
       "      <th></th>\n",
       "      <th>job title</th>\n",
       "      <th>salary estimate</th>\n",
       "      <th>job description</th>\n",
       "      <th>rating</th>\n",
       "      <th>company name</th>\n",
       "      <th>location</th>\n",
       "      <th>headquarters</th>\n",
       "      <th>size</th>\n",
       "      <th>founded</th>\n",
       "      <th>type of ownership</th>\n",
       "      <th>industry</th>\n",
       "      <th>sector</th>\n",
       "      <th>revenue</th>\n",
       "      <th>competitors</th>\n",
       "    </tr>\n",
       "  </thead>\n",
       "  <tbody>\n",
       "    <tr>\n",
       "      <th>0</th>\n",
       "      <td>Sr Data Scientist</td>\n",
       "      <td>$137K-$171K (Glassdoor est.)</td>\n",
       "      <td>Description\\n\\nThe Senior Data Scientist is re...</td>\n",
       "      <td>3.1</td>\n",
       "      <td>Healthfirst\\n3.1</td>\n",
       "      <td>New York, NY</td>\n",
       "      <td>New York, NY</td>\n",
       "      <td>1001 to 5000 employees</td>\n",
       "      <td>1993</td>\n",
       "      <td>Nonprofit Organization</td>\n",
       "      <td>Insurance Carriers</td>\n",
       "      <td>Insurance</td>\n",
       "      <td>Unknown / Non-Applicable</td>\n",
       "      <td>EmblemHealth, UnitedHealth Group, Aetna</td>\n",
       "    </tr>\n",
       "    <tr>\n",
       "      <th>1</th>\n",
       "      <td>Data Scientist</td>\n",
       "      <td>$137K-$171K (Glassdoor est.)</td>\n",
       "      <td>Secure our Nation, Ignite your Future\\n\\nJoin ...</td>\n",
       "      <td>4.2</td>\n",
       "      <td>ManTech\\n4.2</td>\n",
       "      <td>Chantilly, VA</td>\n",
       "      <td>Herndon, VA</td>\n",
       "      <td>5001 to 10000 employees</td>\n",
       "      <td>1968</td>\n",
       "      <td>Company - Public</td>\n",
       "      <td>Research &amp; Development</td>\n",
       "      <td>Business Services</td>\n",
       "      <td>$1 to $2 billion (USD)</td>\n",
       "      <td>-1</td>\n",
       "    </tr>\n",
       "    <tr>\n",
       "      <th>2</th>\n",
       "      <td>Data Scientist</td>\n",
       "      <td>$137K-$171K (Glassdoor est.)</td>\n",
       "      <td>Overview\\n\\n\\nAnalysis Group is one of the lar...</td>\n",
       "      <td>3.8</td>\n",
       "      <td>Analysis Group\\n3.8</td>\n",
       "      <td>Boston, MA</td>\n",
       "      <td>Boston, MA</td>\n",
       "      <td>1001 to 5000 employees</td>\n",
       "      <td>1981</td>\n",
       "      <td>Private Practice / Firm</td>\n",
       "      <td>Consulting</td>\n",
       "      <td>Business Services</td>\n",
       "      <td>$100 to $500 million (USD)</td>\n",
       "      <td>-1</td>\n",
       "    </tr>\n",
       "    <tr>\n",
       "      <th>3</th>\n",
       "      <td>Data Scientist</td>\n",
       "      <td>$137K-$171K (Glassdoor est.)</td>\n",
       "      <td>JOB DESCRIPTION:\\n\\nDo you have a passion for ...</td>\n",
       "      <td>3.5</td>\n",
       "      <td>INFICON\\n3.5</td>\n",
       "      <td>Newton, MA</td>\n",
       "      <td>Bad Ragaz, Switzerland</td>\n",
       "      <td>501 to 1000 employees</td>\n",
       "      <td>2000</td>\n",
       "      <td>Company - Public</td>\n",
       "      <td>Electrical &amp; Electronic Manufacturing</td>\n",
       "      <td>Manufacturing</td>\n",
       "      <td>$100 to $500 million (USD)</td>\n",
       "      <td>MKS Instruments, Pfeiffer Vacuum, Agilent Tech...</td>\n",
       "    </tr>\n",
       "    <tr>\n",
       "      <th>4</th>\n",
       "      <td>Data Scientist</td>\n",
       "      <td>$137K-$171K (Glassdoor est.)</td>\n",
       "      <td>Data Scientist\\nAffinity Solutions / Marketing...</td>\n",
       "      <td>2.9</td>\n",
       "      <td>Affinity Solutions\\n2.9</td>\n",
       "      <td>New York, NY</td>\n",
       "      <td>New York, NY</td>\n",
       "      <td>51 to 200 employees</td>\n",
       "      <td>1998</td>\n",
       "      <td>Company - Private</td>\n",
       "      <td>Advertising &amp; Marketing</td>\n",
       "      <td>Business Services</td>\n",
       "      <td>Unknown / Non-Applicable</td>\n",
       "      <td>Commerce Signals, Cardlytics, Yodlee</td>\n",
       "    </tr>\n",
       "  </tbody>\n",
       "</table>\n",
       "</div>"
      ],
      "text/plain": [
       "           job title               salary estimate  \\\n",
       "0  Sr Data Scientist  $137K-$171K (Glassdoor est.)   \n",
       "1     Data Scientist  $137K-$171K (Glassdoor est.)   \n",
       "2     Data Scientist  $137K-$171K (Glassdoor est.)   \n",
       "3     Data Scientist  $137K-$171K (Glassdoor est.)   \n",
       "4     Data Scientist  $137K-$171K (Glassdoor est.)   \n",
       "\n",
       "                                     job description  rating  \\\n",
       "0  Description\\n\\nThe Senior Data Scientist is re...     3.1   \n",
       "1  Secure our Nation, Ignite your Future\\n\\nJoin ...     4.2   \n",
       "2  Overview\\n\\n\\nAnalysis Group is one of the lar...     3.8   \n",
       "3  JOB DESCRIPTION:\\n\\nDo you have a passion for ...     3.5   \n",
       "4  Data Scientist\\nAffinity Solutions / Marketing...     2.9   \n",
       "\n",
       "              company name       location            headquarters  \\\n",
       "0         Healthfirst\\n3.1   New York, NY            New York, NY   \n",
       "1             ManTech\\n4.2  Chantilly, VA             Herndon, VA   \n",
       "2      Analysis Group\\n3.8     Boston, MA              Boston, MA   \n",
       "3             INFICON\\n3.5     Newton, MA  Bad Ragaz, Switzerland   \n",
       "4  Affinity Solutions\\n2.9   New York, NY            New York, NY   \n",
       "\n",
       "                      size  founded        type of ownership  \\\n",
       "0   1001 to 5000 employees     1993   Nonprofit Organization   \n",
       "1  5001 to 10000 employees     1968         Company - Public   \n",
       "2   1001 to 5000 employees     1981  Private Practice / Firm   \n",
       "3    501 to 1000 employees     2000         Company - Public   \n",
       "4      51 to 200 employees     1998        Company - Private   \n",
       "\n",
       "                                industry             sector  \\\n",
       "0                     Insurance Carriers          Insurance   \n",
       "1                 Research & Development  Business Services   \n",
       "2                             Consulting  Business Services   \n",
       "3  Electrical & Electronic Manufacturing      Manufacturing   \n",
       "4                Advertising & Marketing  Business Services   \n",
       "\n",
       "                      revenue  \\\n",
       "0    Unknown / Non-Applicable   \n",
       "1      $1 to $2 billion (USD)   \n",
       "2  $100 to $500 million (USD)   \n",
       "3  $100 to $500 million (USD)   \n",
       "4    Unknown / Non-Applicable   \n",
       "\n",
       "                                         competitors  \n",
       "0            EmblemHealth, UnitedHealth Group, Aetna  \n",
       "1                                                 -1  \n",
       "2                                                 -1  \n",
       "3  MKS Instruments, Pfeiffer Vacuum, Agilent Tech...  \n",
       "4               Commerce Signals, Cardlytics, Yodlee  "
      ]
     },
     "execution_count": 5,
     "metadata": {},
     "output_type": "execute_result"
    }
   ],
   "source": [
    "df.head()"
   ]
  },
  {
   "cell_type": "code",
   "execution_count": 6,
   "id": "bcefcb2b",
   "metadata": {},
   "outputs": [
    {
     "data": {
      "text/plain": [
       "Index(['job title', 'salary estimate', 'job description', 'rating',\n",
       "       'company name', 'location', 'headquarters', 'size', 'founded',\n",
       "       'type of ownership', 'industry', 'sector', 'revenue', 'competitors'],\n",
       "      dtype='object')"
      ]
     },
     "execution_count": 6,
     "metadata": {},
     "output_type": "execute_result"
    }
   ],
   "source": [
    "df.columns"
   ]
  },
  {
   "cell_type": "code",
   "execution_count": 7,
   "id": "8a1d6dbb",
   "metadata": {},
   "outputs": [
    {
     "name": "stdout",
     "output_type": "stream",
     "text": [
      "<class 'pandas.core.frame.DataFrame'>\n",
      "RangeIndex: 672 entries, 0 to 671\n",
      "Data columns (total 14 columns):\n",
      " #   Column             Non-Null Count  Dtype  \n",
      "---  ------             --------------  -----  \n",
      " 0   job title          672 non-null    object \n",
      " 1   salary estimate    672 non-null    object \n",
      " 2   job description    672 non-null    object \n",
      " 3   rating             672 non-null    float64\n",
      " 4   company name       672 non-null    object \n",
      " 5   location           672 non-null    object \n",
      " 6   headquarters       672 non-null    object \n",
      " 7   size               672 non-null    object \n",
      " 8   founded            672 non-null    int64  \n",
      " 9   type of ownership  672 non-null    object \n",
      " 10  industry           672 non-null    object \n",
      " 11  sector             672 non-null    object \n",
      " 12  revenue            672 non-null    object \n",
      " 13  competitors        672 non-null    object \n",
      "dtypes: float64(1), int64(1), object(12)\n",
      "memory usage: 73.6+ KB\n"
     ]
    }
   ],
   "source": [
    "df.info()"
   ]
  },
  {
   "cell_type": "code",
   "execution_count": 8,
   "id": "e1a52d80",
   "metadata": {},
   "outputs": [
    {
     "data": {
      "text/plain": [
       "job title            0\n",
       "salary estimate      0\n",
       "job description      0\n",
       "rating               0\n",
       "company name         0\n",
       "location             0\n",
       "headquarters         0\n",
       "size                 0\n",
       "founded              0\n",
       "type of ownership    0\n",
       "industry             0\n",
       "sector               0\n",
       "revenue              0\n",
       "competitors          0\n",
       "dtype: int64"
      ]
     },
     "execution_count": 8,
     "metadata": {},
     "output_type": "execute_result"
    }
   ],
   "source": [
    "df.isnull().sum()"
   ]
  },
  {
   "cell_type": "code",
   "execution_count": 9,
   "id": "7cd73e28",
   "metadata": {},
   "outputs": [
    {
     "data": {
      "text/plain": [
       "array(['Sr Data Scientist', 'Data Scientist',\n",
       "       'Data Scientist / Machine Learning Expert',\n",
       "       'Staff Data Scientist - Analytics',\n",
       "       'Data Scientist - Statistics, Early Career', 'Data Modeler',\n",
       "       'Experienced Data Scientist', 'Data Scientist - Contract',\n",
       "       'Data Analyst II', 'Medical Lab Scientist',\n",
       "       'Data Scientist/Machine Learning', 'Human Factors Scientist',\n",
       "       'Business Intelligence Analyst I- Data Insights',\n",
       "       'Data Scientist - Risk', 'Data Scientist-Human Resources',\n",
       "       'Senior Research Statistician- Data Scientist', 'Data Engineer',\n",
       "       'Associate Data Scientist', 'Business Intelligence Analyst',\n",
       "       'Senior Analyst/Data Scientist', 'Data Analyst',\n",
       "       'Machine Learning Engineer', 'Data Analyst I',\n",
       "       'Scientist - Molecular Biology',\n",
       "       'Computational Scientist, Machine Learning',\n",
       "       'Senior Data Scientist', 'Jr. Data Engineer',\n",
       "       'E-Commerce Data Analyst', 'Data Analytics Engineer',\n",
       "       'Product Data Scientist - Ads Data Science',\n",
       "       'Data Scientist - Intermediate', 'Global Data Analyst',\n",
       "       'Data & Machine Learning Scientist',\n",
       "       'Data Scientist - Machine Learning', 'Data Engineer (Remote)',\n",
       "       'Data Scientist, Applied Machine Learning - Bay Area',\n",
       "       'Principal Data Scientist', 'Business Data Analyst',\n",
       "       'Purification Scientist', 'Data Engineer, Enterprise Analytics',\n",
       "       'Data Scientist 3 (718)', 'Real World Science, Data Scientist',\n",
       "       'Data Scientist - Image and Video Analytics',\n",
       "       'Data Science Manager, Payment Acceptance - USA',\n",
       "       'Data Scientist / Applied Mathematician',\n",
       "       'Patient Safety- Associate Data Scientist',\n",
       "       '(Sr.) Data Scientist -', 'Data Scientist, Kinship - NYC/Portland',\n",
       "       'Applied Technology Researcher / Data Scientist',\n",
       "       'Health Data Scientist - Biomedical/Biostats',\n",
       "       'Staff Data Scientist', 'Sr Data Engineer (Sr BI Developer)',\n",
       "       'Lead Data Scientist', 'RFP Data Analyst',\n",
       "       'Data Scientist (TS/SCI)', 'Software Engineer - Data Science',\n",
       "       'Data Analyst/Engineer', 'NGS Scientist', 'Senior Data Engineer',\n",
       "       'Sr. ML/Data Scientist - AI/NLP/Chatbot',\n",
       "       'Data Integration and Modeling Engineer',\n",
       "       'Tableau Data Engineer 20-0117', 'AI Data Scientist',\n",
       "       'Research Scientist Patient Preferences (Remote)',\n",
       "       'Scientist - Biomarker and Flow Cytometry', 'Analytics Manager',\n",
       "       'Staff Scientist- Upstream PD',\n",
       "       'Sr Scientist - Extractables & Leachables',\n",
       "       'ELISA RESEARCH SCIENTIST (CV-15)', 'Say Business Data Analyst',\n",
       "       'Geospatial Data Scientist', 'Computational Scientist',\n",
       "       'Senior Data Analyst', 'Sr Data Analyst',\n",
       "       'Machine Learning Scientist - Bay Area, CA',\n",
       "       'Senior Data Scientist - Algorithms',\n",
       "       'Senior Data & Machine Learning Scientist',\n",
       "       'Research Scientist - Patient-Centered Research (Remote)',\n",
       "       'Jr. Business Data Analyst (position added 6/12/2020)',\n",
       "       'Sr. Data Scientist II',\n",
       "       'Production Engineer - Statistics/Data Analysis',\n",
       "       'Statistical Scientist', 'Computational Behavioral Scientist',\n",
       "       'Principal Data Scientist - Machine Learning',\n",
       "       'Principal Machine Learning Scientist',\n",
       "       'Senior Data Scientist - R&D Oncology',\n",
       "       'Health Plan Data Analyst, Sr',\n",
       "       'Principal Scientist/Associate Director, Quality Control and Analytical Technologies',\n",
       "       'Analytics - Business Assurance Data Analyst',\n",
       "       'Senior Data Scientist – Image Analytics, Novartis AI Innovation Lab',\n",
       "       'Data Science Instructor', 'Senior Business Intelligence Analyst',\n",
       "       'In-Line Inspection Data Analyst',\n",
       "       'Data Scientist - TS/SCI FSP or CI Required',\n",
       "       'Data Scientist - TS/SCI Required',\n",
       "       'Data Science Software Engineer',\n",
       "       'ENGINEER - COMPUTER SCIENTIST - RESEARCH COMPUTER SCIENTIST - SIGNAL PROCESSING - SAN ANTONIO OR',\n",
       "       'AI Ops Data Scientist', 'Intelligence Data Analyst, Senior',\n",
       "       'Analytics Manager - Data Mart',\n",
       "       'Data Modeler (Analytical Systems)',\n",
       "       'Senior Machine Learning Scientist - Bay Area, CA',\n",
       "       'Report Writer-Data Analyst', 'Staff Data Scientist - Pricing',\n",
       "       'Equity Data Insights Analyst - Quantitative Analyst',\n",
       "       'Operations Data Analyst', 'Software Data Engineer',\n",
       "       'Real World Evidence (RWE) Scientist', 'Computer Scientist 1',\n",
       "       'Environmental Data Science', 'Staff BI and Data Engineer',\n",
       "       'Data Scientist - Statistics, Mid-Career',\n",
       "       'Director of Data Science',\n",
       "       'Data Engineer, Digital & Comp Pathology',\n",
       "       'Manager / Lead, Data Science & Analytics',\n",
       "       'Diversity and Inclusion Data Analyst',\n",
       "       'Data Scientist Machine Learning', 'Chief Scientist',\n",
       "       'Development Scientist, Voltaren',\n",
       "       'Principal Data & Analytics Platform Engineer',\n",
       "       'Machine Learning Engineer/Scientist',\n",
       "       'Data Analyst - Unilever Prestige', 'VP, Data Science',\n",
       "       'Data Engineer - Kafka', 'Decision Scientist',\n",
       "       'Data Science All Star Program - Data Engineer Track',\n",
       "       'Scientist - Machine Learning', 'Sr. Data Scientist',\n",
       "       'Applied AI Scientist / Engineer',\n",
       "       'Data Engineer (Analytics, SQL, Python, AWS)',\n",
       "       'Senior Data Analyst - Finance & Platform Analytics',\n",
       "       'Market Research Data Scientist',\n",
       "       'IT Partner Digital Health Technology and Data Science',\n",
       "       'Software Engineer (Data Scientist, C,C++,Linux,Unix) - SISW - MG',\n",
       "       'Senior Clinical Data Scientist Programmer',\n",
       "       'Computer Vision / Deep Learning Scientist',\n",
       "       'Data Solutions Engineer - Data Modeler',\n",
       "       'Data Scientist (TS/SCI w/ Poly)',\n",
       "       'Weapons and Sensors Engineer/Scientist',\n",
       "       'Applied Computer Scientist', 'Cloud Data Engineer (Azure)',\n",
       "       'Lead Certified Clinical Laboratory Scientist - Saturday - Tuesday, 8:00pm - 6:30am shift',\n",
       "       'Sr. Data Analyst',\n",
       "       'Senior Scientist - Toxicologist - Product Integrity (Stewardship)',\n",
       "       'Senior Machine Learning Engineer',\n",
       "       'Data Scientist- Industrial Discrete Sector Industry',\n",
       "       'Senior Principal Data Scientist (Python/R)',\n",
       "       'Data Scientist(s)/Machine Learning Engineer',\n",
       "       'Scientist / Group Lead, Cancer Biology',\n",
       "       'Manager, Field Application Scientist, Southeast',\n",
       "       'COMPUTER SCIENTIST - ENGINEER - RESEARCH COMPUTER SCIENTIST - SIGNAL PROCESSING',\n",
       "       'Machine Learning Scientist / Engineer', 'Data Science Analyst',\n",
       "       'COMPUTER SCIENTIST - ENGINEER - RESEARCH COMPUTER SCIENTIST - TRANSPORTATION TECHNOLOGY',\n",
       "       'Software Engineer - Machine Learning & Data Science (Applied Intelligence Services Team)',\n",
       "       'Clinical Data Analyst', 'Data Scientist Technical Specialist',\n",
       "       'Data Science Manager', 'Big Data Engineer', 'Data Architect',\n",
       "       'Aviation AI/ML Data Scientist', 'Machine Learning Engineer, Sr.',\n",
       "       'Information Systems Engineering Specialist (Engineering Scientist)',\n",
       "       'Scientist/Research Associate-Metabolic Engineering',\n",
       "       'Vice President, Biometrics and Clinical Data Management',\n",
       "       'Enterprise Data Analyst (Enterprise Portfolio Management Office)',\n",
       "       'Lead Data Scientist – Network Analysis and Control',\n",
       "       'Sr. Research Associate/ Scientist, NGS prep & Molecular Genomics',\n",
       "       'Developer III - Data Science',\n",
       "       'Hydrogen/Tritium Materials Scientist (Experienced)',\n",
       "       'Data Scientist/Data Analytics Practitioner',\n",
       "       'AI/ML - Machine Learning Scientist, Siri Understanding'],\n",
       "      dtype=object)"
      ]
     },
     "execution_count": 9,
     "metadata": {},
     "output_type": "execute_result"
    }
   ],
   "source": [
    "df['job title'].unique()"
   ]
  },
  {
   "cell_type": "code",
   "execution_count": 10,
   "id": "f04a35b7",
   "metadata": {},
   "outputs": [
    {
     "data": {
      "text/plain": [
       "0      sr data scientist\n",
       "1         data scientist\n",
       "2         data scientist\n",
       "3         data scientist\n",
       "4         data scientist\n",
       "             ...        \n",
       "667       data scientist\n",
       "668       data scientist\n",
       "669       data scientist\n",
       "670       data scientist\n",
       "671       data scientist\n",
       "Name: job title, Length: 672, dtype: object"
      ]
     },
     "execution_count": 10,
     "metadata": {},
     "output_type": "execute_result"
    }
   ],
   "source": [
    "df['job title'].str.lower().str.replace(r'[^a-zA-Z\\s]', '', regex=True).str.strip()"
   ]
  },
  {
   "cell_type": "code",
   "execution_count": 11,
   "id": "ad9c4239",
   "metadata": {},
   "outputs": [],
   "source": [
    "short_job_title_dict = {\n",
    "    'data scientist': ['data scientist'],\n",
    "    'machine learning engineer': ['machine learning'],\n",
    "    'data engineer': ['data engineer', 'enterprise analytics', 'data integration and modeling engineer'],\n",
    "    'data analyst': [ 'data analyst', 'data analytics engineer'],\n",
    "    'business intelligence analyst': [ 'business intelligence analyst', 'analytics - business assurance data analyst' ],\n",
    "    'research scientist': ['research','scientist'],\n",
    "    'software engineer': ['software engineer'],\n",
    "    'data architect': ['data architect',  'data solutions engineer - data modeler'],\n",
    "    'computer scientist': ['computer scientist'],\n",
    "    'analytics manager': ['manager', 'data science manager', 'manager / lead, data science & analytics'],\n",
    "    'director': ['director', 'vp, data science', 'chief data scientist']\n",
    "}\n",
    "\n",
    "def map_to_short_job_title(job_title, short_job_title_dict):\n",
    "    job_title = job_title.lower()\n",
    "    for short_title, keywords in short_job_title_dict.items():\n",
    "        if any(keyword.lower() in job_title for keyword in keywords):\n",
    "            return short_title\n",
    "    return 'other'\n",
    "\n",
    "df['short_job_title'] = df['job title'].apply(lambda title: map_to_short_job_title(title, short_job_title_dict))"
   ]
  },
  {
   "cell_type": "code",
   "execution_count": 12,
   "id": "4471e350",
   "metadata": {},
   "outputs": [
    {
     "data": {
      "text/html": [
       "<div>\n",
       "<style scoped>\n",
       "    .dataframe tbody tr th:only-of-type {\n",
       "        vertical-align: middle;\n",
       "    }\n",
       "\n",
       "    .dataframe tbody tr th {\n",
       "        vertical-align: top;\n",
       "    }\n",
       "\n",
       "    .dataframe thead th {\n",
       "        text-align: right;\n",
       "    }\n",
       "</style>\n",
       "<table border=\"1\" class=\"dataframe\">\n",
       "  <thead>\n",
       "    <tr style=\"text-align: right;\">\n",
       "      <th></th>\n",
       "      <th>job title</th>\n",
       "      <th>short_job_title</th>\n",
       "    </tr>\n",
       "  </thead>\n",
       "  <tbody>\n",
       "    <tr>\n",
       "      <th>0</th>\n",
       "      <td>Sr Data Scientist</td>\n",
       "      <td>data scientist</td>\n",
       "    </tr>\n",
       "    <tr>\n",
       "      <th>1</th>\n",
       "      <td>Data Scientist</td>\n",
       "      <td>data scientist</td>\n",
       "    </tr>\n",
       "    <tr>\n",
       "      <th>2</th>\n",
       "      <td>Data Scientist</td>\n",
       "      <td>data scientist</td>\n",
       "    </tr>\n",
       "    <tr>\n",
       "      <th>3</th>\n",
       "      <td>Data Scientist</td>\n",
       "      <td>data scientist</td>\n",
       "    </tr>\n",
       "    <tr>\n",
       "      <th>4</th>\n",
       "      <td>Data Scientist</td>\n",
       "      <td>data scientist</td>\n",
       "    </tr>\n",
       "    <tr>\n",
       "      <th>...</th>\n",
       "      <td>...</td>\n",
       "      <td>...</td>\n",
       "    </tr>\n",
       "    <tr>\n",
       "      <th>667</th>\n",
       "      <td>Data Scientist</td>\n",
       "      <td>data scientist</td>\n",
       "    </tr>\n",
       "    <tr>\n",
       "      <th>668</th>\n",
       "      <td>Data Scientist</td>\n",
       "      <td>data scientist</td>\n",
       "    </tr>\n",
       "    <tr>\n",
       "      <th>669</th>\n",
       "      <td>Data Scientist</td>\n",
       "      <td>data scientist</td>\n",
       "    </tr>\n",
       "    <tr>\n",
       "      <th>670</th>\n",
       "      <td>Data Scientist</td>\n",
       "      <td>data scientist</td>\n",
       "    </tr>\n",
       "    <tr>\n",
       "      <th>671</th>\n",
       "      <td>Data Scientist</td>\n",
       "      <td>data scientist</td>\n",
       "    </tr>\n",
       "  </tbody>\n",
       "</table>\n",
       "<p>672 rows × 2 columns</p>\n",
       "</div>"
      ],
      "text/plain": [
       "             job title short_job_title\n",
       "0    Sr Data Scientist  data scientist\n",
       "1       Data Scientist  data scientist\n",
       "2       Data Scientist  data scientist\n",
       "3       Data Scientist  data scientist\n",
       "4       Data Scientist  data scientist\n",
       "..                 ...             ...\n",
       "667     Data Scientist  data scientist\n",
       "668     Data Scientist  data scientist\n",
       "669     Data Scientist  data scientist\n",
       "670     Data Scientist  data scientist\n",
       "671     Data Scientist  data scientist\n",
       "\n",
       "[672 rows x 2 columns]"
      ]
     },
     "execution_count": 12,
     "metadata": {},
     "output_type": "execute_result"
    }
   ],
   "source": [
    "df[['job title', 'short_job_title']]"
   ]
  },
  {
   "cell_type": "code",
   "execution_count": 13,
   "id": "7acc0162",
   "metadata": {},
   "outputs": [],
   "source": [
    "experience_level_dict = {\n",
    "    'junior': ['junior', 'jr', 'entry level', 'associate'],\n",
    "    'mid': ['mid', 'intermediate', 'ii'],\n",
    "    'senior': ['senior', 'sr', 'lead', 'principal', 'head'],\n",
    "    'director': ['director', 'vp', 'chief']\n",
    "}\n",
    "\n",
    "\n",
    "def map_to_experience_level(job_title, experience_level_dict):\n",
    "    job_title = job_title.lower()\n",
    "    for level, keywords in experience_level_dict.items():\n",
    "        if any(keyword in job_title for keyword in keywords):\n",
    "            return level\n",
    "    return 'unspecified'\n",
    "\n",
    "\n",
    "df['experience_level'] = df['job title'].apply(lambda title: map_to_experience_level(title, experience_level_dict))"
   ]
  },
  {
   "cell_type": "code",
   "execution_count": 14,
   "id": "c01eb1d7",
   "metadata": {},
   "outputs": [
    {
     "data": {
      "text/plain": [
       "unspecified    562\n",
       "senior          89\n",
       "junior          10\n",
       "mid              7\n",
       "director         4\n",
       "Name: experience_level, dtype: int64"
      ]
     },
     "execution_count": 14,
     "metadata": {},
     "output_type": "execute_result"
    }
   ],
   "source": [
    "df['experience_level'].value_counts()\n",
    "\n",
    "# there are lots of unspecified experience rows, further we could fill those from job description maybe."
   ]
  },
  {
   "cell_type": "code",
   "execution_count": 15,
   "id": "10f30d34",
   "metadata": {},
   "outputs": [
    {
     "data": {
      "text/plain": [
       "array(['$137K-$171K (Glassdoor est.)', '$75K-$131K (Glassdoor est.)',\n",
       "       '$79K-$131K (Glassdoor est.)', '$99K-$132K (Glassdoor est.)',\n",
       "       '$90K-$109K (Glassdoor est.)', '$101K-$165K (Glassdoor est.)',\n",
       "       '$56K-$97K (Glassdoor est.)', '$79K-$106K (Glassdoor est.)',\n",
       "       '$71K-$123K (Glassdoor est.)', '$90K-$124K (Glassdoor est.)',\n",
       "       '$91K-$150K (Glassdoor est.)', '$141K-$225K (Glassdoor est.)',\n",
       "       '$145K-$225K(Employer est.)', '$79K-$147K (Glassdoor est.)',\n",
       "       '$122K-$146K (Glassdoor est.)', '$112K-$116K (Glassdoor est.)',\n",
       "       '$110K-$163K (Glassdoor est.)', '$124K-$198K (Glassdoor est.)',\n",
       "       '$79K-$133K (Glassdoor est.)', '$69K-$116K (Glassdoor est.)',\n",
       "       '$31K-$56K (Glassdoor est.)', '$95K-$119K (Glassdoor est.)',\n",
       "       '$212K-$331K (Glassdoor est.)', '$66K-$112K (Glassdoor est.)',\n",
       "       '$128K-$201K (Glassdoor est.)', '$138K-$158K (Glassdoor est.)',\n",
       "       '$80K-$132K (Glassdoor est.)', '$87K-$141K (Glassdoor est.)',\n",
       "       '$92K-$155K (Glassdoor est.)', '$105K-$167K (Glassdoor est.)'],\n",
       "      dtype=object)"
      ]
     },
     "execution_count": 15,
     "metadata": {},
     "output_type": "execute_result"
    }
   ],
   "source": [
    "df['salary estimate'].unique()"
   ]
  },
  {
   "cell_type": "code",
   "execution_count": 16,
   "id": "1b46c10b",
   "metadata": {},
   "outputs": [],
   "source": [
    "df[['min_salary', 'max_salary']]= df['salary estimate'].str.extract(r'\\$(\\d+)K-\\$(\\d+)K').astype(int)"
   ]
  },
  {
   "cell_type": "code",
   "execution_count": 17,
   "id": "58d37a73",
   "metadata": {},
   "outputs": [],
   "source": [
    "df['average_salary'] = df.apply(lambda x: (x['min_salary'] + x['max_salary'])/2, axis=1)"
   ]
  },
  {
   "cell_type": "code",
   "execution_count": null,
   "id": "10738944",
   "metadata": {},
   "outputs": [],
   "source": []
  },
  {
   "cell_type": "code",
   "execution_count": 18,
   "id": "023c9b17",
   "metadata": {},
   "outputs": [],
   "source": [
    "df['company name'] = df['company name'].str.split('\\n').str[0]"
   ]
  },
  {
   "cell_type": "code",
   "execution_count": 19,
   "id": "5cd631e2",
   "metadata": {},
   "outputs": [],
   "source": [
    "df[['loc city', 'loc state']] = df['location'].str.extract(r'^(.*?),\\s*([A-Z]{2})$').fillna({\n",
    "    'loc city': df['location'], \n",
    "    'State': 'AA'\n",
    "})\n"
   ]
  },
  {
   "cell_type": "code",
   "execution_count": null,
   "id": "d7607ed2",
   "metadata": {},
   "outputs": [],
   "source": []
  },
  {
   "cell_type": "code",
   "execution_count": 20,
   "id": "f288bae1",
   "metadata": {},
   "outputs": [
    {
     "data": {
      "text/plain": [
       "array(['1001 to 5000 employees', '5001 to 10000 employees',\n",
       "       '501 to 1000 employees', '51 to 200 employees', '10000+ employees',\n",
       "       '201 to 500 employees', '1 to 50 employees', '-1', 'Unknown'],\n",
       "      dtype=object)"
      ]
     },
     "execution_count": 20,
     "metadata": {},
     "output_type": "execute_result"
    }
   ],
   "source": [
    "df['size'].unique()"
   ]
  },
  {
   "cell_type": "code",
   "execution_count": 21,
   "id": "b359cfa6",
   "metadata": {},
   "outputs": [
    {
     "data": {
      "text/plain": [
       "51 to 200 employees        135\n",
       "1001 to 5000 employees     104\n",
       "1 to 50 employees           86\n",
       "201 to 500 employees        85\n",
       "10000+ employees            80\n",
       "501 to 1000 employees       77\n",
       "5001 to 10000 employees     61\n",
       "-1                          27\n",
       "Unknown                     17\n",
       "Name: size, dtype: int64"
      ]
     },
     "execution_count": 21,
     "metadata": {},
     "output_type": "execute_result"
    }
   ],
   "source": [
    "df['size'].value_counts()"
   ]
  },
  {
   "cell_type": "code",
   "execution_count": 22,
   "id": "833645c9",
   "metadata": {},
   "outputs": [],
   "source": [
    "size_to_segment = {\n",
    "    'Small': ['1 to 50 employees'],\n",
    "    'Middle': ['51 to 200 employees', '201 to 500 employees', '501 to 1000 employees'],\n",
    "    'Corporate': ['1001 to 5000 employees', '5001 to 10000 employees', '10000+ employees'],\n",
    "    'NA': ['Unknown', '-1']\n",
    "}\n",
    "\n",
    "\n",
    "def map_size_to_segment(size):\n",
    "    for segment, sizes in size_to_segment.items():\n",
    "        if size in sizes:\n",
    "            return segment\n",
    "    return 'NA'  \n",
    "\n",
    "df['company size'] = df['size'].apply(map_size_to_segment)"
   ]
  },
  {
   "cell_type": "code",
   "execution_count": 23,
   "id": "56e31624",
   "metadata": {
    "scrolled": true
   },
   "outputs": [
    {
     "data": {
      "text/plain": [
       "0      Corporate\n",
       "1      Corporate\n",
       "2      Corporate\n",
       "3         Middle\n",
       "4         Middle\n",
       "         ...    \n",
       "667    Corporate\n",
       "668           NA\n",
       "669           NA\n",
       "670        Small\n",
       "671    Corporate\n",
       "Name: company size, Length: 672, dtype: object"
      ]
     },
     "execution_count": 23,
     "metadata": {},
     "output_type": "execute_result"
    }
   ],
   "source": [
    "df['company size']"
   ]
  },
  {
   "cell_type": "code",
   "execution_count": null,
   "id": "1b8543f5",
   "metadata": {},
   "outputs": [],
   "source": []
  },
  {
   "cell_type": "code",
   "execution_count": 24,
   "id": "a79e5c6e",
   "metadata": {},
   "outputs": [
    {
     "data": {
      "text/plain": [
       "array([1993, 1968, 1981, 2000, 1998, 2010, 1996, 1990, 1983, 2014, 2012,\n",
       "       2016, 1965, 1973, 1986, 1997, 2015, 1945, 1988, 2017, 2011, 1967,\n",
       "       1860, 1992, 2003, 1951, 2005, 2019, 1925, 2008, 1999, 1978, 1966,\n",
       "       1912, 1958, 2013, 1849, 1781, 1926, 2006, 1994, 1863, 1995,   -1,\n",
       "       1982, 1974, 2001, 1985, 1913, 1971, 1911, 2009, 1959, 2007, 1939,\n",
       "       2002, 1961, 1963, 1969, 1946, 1957, 1953, 1948, 1850, 1851, 2004,\n",
       "       1976, 1918, 1954, 1947, 1955, 2018, 1937, 1917, 1935, 1929, 1820,\n",
       "       1952, 1932, 1894, 1960, 1788, 1830, 1984, 1933, 1880, 1887, 1970,\n",
       "       1942, 1980, 1989, 1908, 1853, 1875, 1914, 1898, 1956, 1977, 1987,\n",
       "       1896, 1972, 1949, 1962], dtype=int64)"
      ]
     },
     "execution_count": 24,
     "metadata": {},
     "output_type": "execute_result"
    }
   ],
   "source": [
    "df['founded'].unique()"
   ]
  },
  {
   "cell_type": "code",
   "execution_count": 25,
   "id": "94f18f86",
   "metadata": {},
   "outputs": [],
   "source": [
    "df['founded'] = np.where(df['founded'] == -1,2024, df['founded'])"
   ]
  },
  {
   "cell_type": "code",
   "execution_count": 26,
   "id": "ab67289e",
   "metadata": {},
   "outputs": [
    {
     "name": "stderr",
     "output_type": "stream",
     "text": [
      "C:\\Users\\mirna\\AppData\\Local\\Temp\\ipykernel_39184\\4130546046.py:1: FutureWarning: The pandas.datetime class is deprecated and will be removed from pandas in a future version. Import from datetime module instead.\n",
      "  df['company age'] = pd.datetime.now().year - df['founded']\n"
     ]
    }
   ],
   "source": [
    "df['company age'] = pd.datetime.now().year - df['founded']"
   ]
  },
  {
   "cell_type": "code",
   "execution_count": null,
   "id": "e52e35eb",
   "metadata": {},
   "outputs": [],
   "source": []
  },
  {
   "cell_type": "code",
   "execution_count": 27,
   "id": "b590226e",
   "metadata": {},
   "outputs": [
    {
     "data": {
      "text/plain": [
       "array(['Nonprofit Organization', 'Company - Public',\n",
       "       'Private Practice / Firm', 'Company - Private', 'Government',\n",
       "       'Subsidiary or Business Segment', 'Other Organization', '-1',\n",
       "       'Unknown', 'Hospital', 'Self-employed', 'College / University',\n",
       "       'Contract'], dtype=object)"
      ]
     },
     "execution_count": 27,
     "metadata": {},
     "output_type": "execute_result"
    }
   ],
   "source": [
    "df['type of ownership'].unique()"
   ]
  },
  {
   "cell_type": "code",
   "execution_count": 28,
   "id": "9226f9e0",
   "metadata": {},
   "outputs": [],
   "source": [
    "ownership_mapping_dict = {\n",
    "    'Other Organization': ['-1', 'Unknown', 'Other Organization'],\n",
    "    'Private Company': ['Private Practice / Firm', 'Company - Private'],\n",
    "    'Public Company': ['Company - Public']\n",
    "}\n",
    "\n",
    "\n",
    "def map_ownership_type(value, ownership_mapping_dict):\n",
    "    for group, values in ownership_mapping_dict.items():\n",
    "        if value in values:\n",
    "            return group\n",
    "    return value  \n",
    "\n",
    "\n",
    "df['type of ownership'] = df['type of ownership'].apply(lambda x: map_ownership_type(x, ownership_mapping_dict))"
   ]
  },
  {
   "cell_type": "code",
   "execution_count": 29,
   "id": "547a5f72",
   "metadata": {},
   "outputs": [
    {
     "data": {
      "text/plain": [
       "array(['Nonprofit Organization', 'Public Company', 'Private Company',\n",
       "       'Government', 'Subsidiary or Business Segment',\n",
       "       'Other Organization', 'Hospital', 'Self-employed',\n",
       "       'College / University', 'Contract'], dtype=object)"
      ]
     },
     "execution_count": 29,
     "metadata": {},
     "output_type": "execute_result"
    }
   ],
   "source": [
    "df['type of ownership'].unique()"
   ]
  },
  {
   "cell_type": "code",
   "execution_count": null,
   "id": "85c1f6c1",
   "metadata": {},
   "outputs": [],
   "source": []
  },
  {
   "cell_type": "code",
   "execution_count": 30,
   "id": "c1a395e7",
   "metadata": {},
   "outputs": [
    {
     "data": {
      "text/plain": [
       "array(['Insurance', 'Business Services', 'Manufacturing',\n",
       "       'Information Technology', 'Biotech & Pharmaceuticals', 'Retail',\n",
       "       'Oil, Gas, Energy & Utilities', 'Government', 'Health Care',\n",
       "       'Finance', 'Aerospace & Defense', '-1',\n",
       "       'Transportation & Logistics', 'Media', 'Telecommunications',\n",
       "       'Real Estate', 'Travel & Tourism', 'Agriculture & Forestry',\n",
       "       'Education', 'Accounting & Legal', 'Non-Profit',\n",
       "       'Construction, Repair & Maintenance', 'Consumer Services'],\n",
       "      dtype=object)"
      ]
     },
     "execution_count": 30,
     "metadata": {},
     "output_type": "execute_result"
    }
   ],
   "source": [
    "df['sector'].unique()"
   ]
  },
  {
   "cell_type": "markdown",
   "id": "04f52e35",
   "metadata": {},
   "source": [
    "**Industry and sector column can also be grouped into separate fields using the method that i did for job titles**"
   ]
  },
  {
   "cell_type": "code",
   "execution_count": 31,
   "id": "bd379035",
   "metadata": {},
   "outputs": [
    {
     "data": {
      "text/plain": [
       "array(['Unknown / Non-Applicable', '$1 to $2 billion (USD)',\n",
       "       '$100 to $500 million (USD)', '$10+ billion (USD)',\n",
       "       '$2 to $5 billion (USD)', '$500 million to $1 billion (USD)',\n",
       "       '$5 to $10 billion (USD)', '$10 to $25 million (USD)',\n",
       "       '$25 to $50 million (USD)', '$50 to $100 million (USD)',\n",
       "       '$1 to $5 million (USD)', '$5 to $10 million (USD)',\n",
       "       'Less than $1 million (USD)', '-1'], dtype=object)"
      ]
     },
     "execution_count": 31,
     "metadata": {},
     "output_type": "execute_result"
    }
   ],
   "source": [
    "df['revenue'].unique()"
   ]
  },
  {
   "cell_type": "code",
   "execution_count": 32,
   "id": "b55d03c0",
   "metadata": {},
   "outputs": [],
   "source": [
    "df['revenue'] = np.where(df['revenue']== -1, 'Unknown', df['revenue'])"
   ]
  },
  {
   "cell_type": "code",
   "execution_count": 33,
   "id": "2e1bc269",
   "metadata": {},
   "outputs": [
    {
     "data": {
      "text/plain": [
       "Unknown / Non-Applicable            213\n",
       "$100 to $500 million (USD)           94\n",
       "$10+ billion (USD)                   63\n",
       "$2 to $5 billion (USD)               45\n",
       "$10 to $25 million (USD)             41\n",
       "$1 to $2 billion (USD)               36\n",
       "$25 to $50 million (USD)             36\n",
       "$50 to $100 million (USD)            31\n",
       "$1 to $5 million (USD)               31\n",
       "-1                                   27\n",
       "$500 million to $1 billion (USD)     19\n",
       "$5 to $10 million (USD)              14\n",
       "Less than $1 million (USD)           14\n",
       "$5 to $10 billion (USD)               8\n",
       "Name: revenue, dtype: int64"
      ]
     },
     "execution_count": 33,
     "metadata": {},
     "output_type": "execute_result"
    }
   ],
   "source": [
    "df['revenue'].value_counts()"
   ]
  },
  {
   "cell_type": "code",
   "execution_count": 34,
   "id": "521e61da",
   "metadata": {},
   "outputs": [],
   "source": [
    "def normalize_revenue(revenue):\n",
    "    \n",
    "    if revenue in ['-1', 'Unknown / Non-Applicable']:\n",
    "        return 'Unknown'\n",
    "    \n",
    "    if 'billion' in revenue:\n",
    "        \n",
    "        numbers = re.findall(r'\\d+\\.?\\d*', revenue)\n",
    "        \n",
    "        if len(numbers) == 1:\n",
    "            return f'{float(numbers[0]) * 1000} million (USD)'\n",
    "        \n",
    "        elif len(numbers) == 2:\n",
    "            return f'{float(numbers[0]) * 1000} to {float(numbers[1]) * 1000} million (USD)'\n",
    "    \n",
    "    return revenue\n",
    "\n",
    "\n",
    "df['normalized revenue'] = df['revenue'].apply(normalize_revenue)"
   ]
  },
  {
   "cell_type": "code",
   "execution_count": 35,
   "id": "f571275d",
   "metadata": {},
   "outputs": [
    {
     "data": {
      "text/plain": [
       "0                             Unknown\n",
       "1      1000.0 to 2000.0 million (USD)\n",
       "2          $100 to $500 million (USD)\n",
       "3          $100 to $500 million (USD)\n",
       "4                             Unknown\n",
       "                    ...              \n",
       "667                           Unknown\n",
       "668                           Unknown\n",
       "669                           Unknown\n",
       "670            $1 to $5 million (USD)\n",
       "671    1000.0 to 2000.0 million (USD)\n",
       "Name: normalized revenue, Length: 672, dtype: object"
      ]
     },
     "execution_count": 35,
     "metadata": {},
     "output_type": "execute_result"
    }
   ],
   "source": [
    "df['normalized revenue']"
   ]
  },
  {
   "cell_type": "code",
   "execution_count": null,
   "id": "dde3a52e",
   "metadata": {},
   "outputs": [],
   "source": []
  },
  {
   "cell_type": "code",
   "execution_count": 36,
   "id": "6ffb3ac7",
   "metadata": {},
   "outputs": [],
   "source": [
    "languages = ['python', 'sql', 'r', 'java', 'scala', 'nosql', 'go', 'sas', 'mongodb', \n",
    "             'shell', 'javascript', 'c++', 'c#', 'c', 'matlab', 'bash', 'vba', 't-sql',\n",
    "             'powershell', 'html', 'css', 'typescript', 'perl', 'ruby']\n",
    "\n",
    "tools = ['tableau', 'excel', 'power bi', 'sas', 'word', 'powerpoint', 'google sheet', \n",
    "         'spreadsheet', 'sap', 'ssis', 'looker', 'qlik', 'alteryx', 'spss', \n",
    "         'ssrs', 'outlook', 'dax', 'sharepoint', 'splunk', 'microstrategy', \n",
    "         'visio', 'ms access', 'datarobot']\n",
    "\n",
    "cloud = ['aws', 'azure', 'snowflake', 'databricks', 'redshift', 'bigquery', \n",
    "         'gcp', 'oracle', 'aurora', 'vmware', 'ibm cloud', 'firebase', 'watson',\n",
    "         'openstack', 'colocation', 'digital ocean', 'heroku', 'ovh', 'linode']\n",
    "\n",
    "libraries = ['spark', 'hadoop', 'kafka', 'airflow', 'pyspark', 'tensorflow', \n",
    "             'pandas', 'pytorch', 'scikit-learn', 'numpy', 'keras', 'opencv',\n",
    "             'jupyter', 'react', 'matplotlib', 'spring', 'gdrp', 'graphql',\n",
    "             'plotly', 'seaborn', 'nltk', 'ggplot2', 'selenium', 'hugging face', 'mxnet']\n",
    "\n",
    "framework = ['express', 'node.js', 'angular', 'ruby', 'flask', 'django', 'phoenix', \n",
    "             'vue.js', 'fastapi', 'jquery', 'ruby on rails', 'asp.net', 'react.js', \n",
    "             'next.js', 'laravel', 'asp.net core', 'drupal', 'angular.js', 'svelte', \n",
    "             'symfony', 'play framework', 'blazor', 'fastify']\n",
    "\n",
    "\n",
    "all_categories = [languages, tools, cloud, libraries, framework]\n",
    "new_cols = ['req_languages', 'req_tools', 'req_cloud', 'req_libraries', 'req_framework']\n",
    "\n",
    "\n",
    "def extract_keywords(text, keywords):\n",
    "    return ', '.join([word for word in keywords if word in text.lower()])\n",
    "\n",
    "for i in range(len(new_cols)):\n",
    "    df[new_cols[i]] = df['job description'].apply(lambda x: extract_keywords(x, all_categories[i]))\n"
   ]
  },
  {
   "cell_type": "code",
   "execution_count": 37,
   "id": "2cd24e4e",
   "metadata": {},
   "outputs": [],
   "source": [
    "df[new_cols] = df[new_cols].replace('', 'None')"
   ]
  },
  {
   "cell_type": "code",
   "execution_count": 38,
   "id": "f1ac3e8c",
   "metadata": {},
   "outputs": [
    {
     "data": {
      "text/html": [
       "<div>\n",
       "<style scoped>\n",
       "    .dataframe tbody tr th:only-of-type {\n",
       "        vertical-align: middle;\n",
       "    }\n",
       "\n",
       "    .dataframe tbody tr th {\n",
       "        vertical-align: top;\n",
       "    }\n",
       "\n",
       "    .dataframe thead th {\n",
       "        text-align: right;\n",
       "    }\n",
       "</style>\n",
       "<table border=\"1\" class=\"dataframe\">\n",
       "  <thead>\n",
       "    <tr style=\"text-align: right;\">\n",
       "      <th></th>\n",
       "      <th>job title</th>\n",
       "      <th>salary estimate</th>\n",
       "      <th>job description</th>\n",
       "      <th>rating</th>\n",
       "      <th>company name</th>\n",
       "      <th>location</th>\n",
       "      <th>headquarters</th>\n",
       "      <th>size</th>\n",
       "      <th>founded</th>\n",
       "      <th>type of ownership</th>\n",
       "      <th>...</th>\n",
       "      <th>loc city</th>\n",
       "      <th>loc state</th>\n",
       "      <th>company size</th>\n",
       "      <th>company age</th>\n",
       "      <th>normalized revenue</th>\n",
       "      <th>req_languages</th>\n",
       "      <th>req_tools</th>\n",
       "      <th>req_cloud</th>\n",
       "      <th>req_libraries</th>\n",
       "      <th>req_framework</th>\n",
       "    </tr>\n",
       "  </thead>\n",
       "  <tbody>\n",
       "    <tr>\n",
       "      <th>0</th>\n",
       "      <td>Sr Data Scientist</td>\n",
       "      <td>$137K-$171K (Glassdoor est.)</td>\n",
       "      <td>Description\\n\\nThe Senior Data Scientist is re...</td>\n",
       "      <td>3.1</td>\n",
       "      <td>Healthfirst</td>\n",
       "      <td>New York, NY</td>\n",
       "      <td>New York, NY</td>\n",
       "      <td>1001 to 5000 employees</td>\n",
       "      <td>1993</td>\n",
       "      <td>Nonprofit Organization</td>\n",
       "      <td>...</td>\n",
       "      <td>New York</td>\n",
       "      <td>NY</td>\n",
       "      <td>Corporate</td>\n",
       "      <td>31</td>\n",
       "      <td>Unknown</td>\n",
       "      <td>r, go, c</td>\n",
       "      <td>ssis</td>\n",
       "      <td>aws, azure</td>\n",
       "      <td>None</td>\n",
       "      <td>None</td>\n",
       "    </tr>\n",
       "    <tr>\n",
       "      <th>1</th>\n",
       "      <td>Data Scientist</td>\n",
       "      <td>$137K-$171K (Glassdoor est.)</td>\n",
       "      <td>Secure our Nation, Ignite your Future\\n\\nJoin ...</td>\n",
       "      <td>4.2</td>\n",
       "      <td>ManTech</td>\n",
       "      <td>Chantilly, VA</td>\n",
       "      <td>Herndon, VA</td>\n",
       "      <td>5001 to 10000 employees</td>\n",
       "      <td>1968</td>\n",
       "      <td>Public Company</td>\n",
       "      <td>...</td>\n",
       "      <td>Chantilly</td>\n",
       "      <td>VA</td>\n",
       "      <td>Corporate</td>\n",
       "      <td>56</td>\n",
       "      <td>1000.0 to 2000.0 million (USD)</td>\n",
       "      <td>sql, r, go, c</td>\n",
       "      <td>None</td>\n",
       "      <td>None</td>\n",
       "      <td>hadoop</td>\n",
       "      <td>express</td>\n",
       "    </tr>\n",
       "    <tr>\n",
       "      <th>2</th>\n",
       "      <td>Data Scientist</td>\n",
       "      <td>$137K-$171K (Glassdoor est.)</td>\n",
       "      <td>Overview\\n\\n\\nAnalysis Group is one of the lar...</td>\n",
       "      <td>3.8</td>\n",
       "      <td>Analysis Group</td>\n",
       "      <td>Boston, MA</td>\n",
       "      <td>Boston, MA</td>\n",
       "      <td>1001 to 5000 employees</td>\n",
       "      <td>1981</td>\n",
       "      <td>Private Company</td>\n",
       "      <td>...</td>\n",
       "      <td>Boston</td>\n",
       "      <td>MA</td>\n",
       "      <td>Corporate</td>\n",
       "      <td>43</td>\n",
       "      <td>$100 to $500 million (USD)</td>\n",
       "      <td>python, r, go, c++, c</td>\n",
       "      <td>excel, visio</td>\n",
       "      <td>aws</td>\n",
       "      <td>None</td>\n",
       "      <td>flask</td>\n",
       "    </tr>\n",
       "    <tr>\n",
       "      <th>3</th>\n",
       "      <td>Data Scientist</td>\n",
       "      <td>$137K-$171K (Glassdoor est.)</td>\n",
       "      <td>JOB DESCRIPTION:\\n\\nDo you have a passion for ...</td>\n",
       "      <td>3.5</td>\n",
       "      <td>INFICON</td>\n",
       "      <td>Newton, MA</td>\n",
       "      <td>Bad Ragaz, Switzerland</td>\n",
       "      <td>501 to 1000 employees</td>\n",
       "      <td>2000</td>\n",
       "      <td>Public Company</td>\n",
       "      <td>...</td>\n",
       "      <td>Newton</td>\n",
       "      <td>MA</td>\n",
       "      <td>Middle</td>\n",
       "      <td>24</td>\n",
       "      <td>$100 to $500 million (USD)</td>\n",
       "      <td>python, sql, r, nosql, go, c, matlab</td>\n",
       "      <td>excel, ssis, visio</td>\n",
       "      <td>aws</td>\n",
       "      <td>tensorflow, pytorch</td>\n",
       "      <td>None</td>\n",
       "    </tr>\n",
       "    <tr>\n",
       "      <th>4</th>\n",
       "      <td>Data Scientist</td>\n",
       "      <td>$137K-$171K (Glassdoor est.)</td>\n",
       "      <td>Data Scientist\\nAffinity Solutions / Marketing...</td>\n",
       "      <td>2.9</td>\n",
       "      <td>Affinity Solutions</td>\n",
       "      <td>New York, NY</td>\n",
       "      <td>New York, NY</td>\n",
       "      <td>51 to 200 employees</td>\n",
       "      <td>1998</td>\n",
       "      <td>Private Company</td>\n",
       "      <td>...</td>\n",
       "      <td>New York</td>\n",
       "      <td>NY</td>\n",
       "      <td>Middle</td>\n",
       "      <td>26</td>\n",
       "      <td>Unknown</td>\n",
       "      <td>python, sql, r, go, sas, c</td>\n",
       "      <td>excel, sas</td>\n",
       "      <td>None</td>\n",
       "      <td>None</td>\n",
       "      <td>None</td>\n",
       "    </tr>\n",
       "  </tbody>\n",
       "</table>\n",
       "<p>5 rows × 29 columns</p>\n",
       "</div>"
      ],
      "text/plain": [
       "           job title               salary estimate  \\\n",
       "0  Sr Data Scientist  $137K-$171K (Glassdoor est.)   \n",
       "1     Data Scientist  $137K-$171K (Glassdoor est.)   \n",
       "2     Data Scientist  $137K-$171K (Glassdoor est.)   \n",
       "3     Data Scientist  $137K-$171K (Glassdoor est.)   \n",
       "4     Data Scientist  $137K-$171K (Glassdoor est.)   \n",
       "\n",
       "                                     job description  rating  \\\n",
       "0  Description\\n\\nThe Senior Data Scientist is re...     3.1   \n",
       "1  Secure our Nation, Ignite your Future\\n\\nJoin ...     4.2   \n",
       "2  Overview\\n\\n\\nAnalysis Group is one of the lar...     3.8   \n",
       "3  JOB DESCRIPTION:\\n\\nDo you have a passion for ...     3.5   \n",
       "4  Data Scientist\\nAffinity Solutions / Marketing...     2.9   \n",
       "\n",
       "         company name       location            headquarters  \\\n",
       "0         Healthfirst   New York, NY            New York, NY   \n",
       "1             ManTech  Chantilly, VA             Herndon, VA   \n",
       "2      Analysis Group     Boston, MA              Boston, MA   \n",
       "3             INFICON     Newton, MA  Bad Ragaz, Switzerland   \n",
       "4  Affinity Solutions   New York, NY            New York, NY   \n",
       "\n",
       "                      size  founded       type of ownership  ...   loc city  \\\n",
       "0   1001 to 5000 employees     1993  Nonprofit Organization  ...   New York   \n",
       "1  5001 to 10000 employees     1968          Public Company  ...  Chantilly   \n",
       "2   1001 to 5000 employees     1981         Private Company  ...     Boston   \n",
       "3    501 to 1000 employees     2000          Public Company  ...     Newton   \n",
       "4      51 to 200 employees     1998         Private Company  ...   New York   \n",
       "\n",
       "  loc state company size company age              normalized revenue  \\\n",
       "0        NY    Corporate          31                         Unknown   \n",
       "1        VA    Corporate          56  1000.0 to 2000.0 million (USD)   \n",
       "2        MA    Corporate          43      $100 to $500 million (USD)   \n",
       "3        MA       Middle          24      $100 to $500 million (USD)   \n",
       "4        NY       Middle          26                         Unknown   \n",
       "\n",
       "                          req_languages           req_tools   req_cloud  \\\n",
       "0                              r, go, c                ssis  aws, azure   \n",
       "1                         sql, r, go, c                None        None   \n",
       "2                 python, r, go, c++, c        excel, visio         aws   \n",
       "3  python, sql, r, nosql, go, c, matlab  excel, ssis, visio         aws   \n",
       "4            python, sql, r, go, sas, c          excel, sas        None   \n",
       "\n",
       "         req_libraries req_framework  \n",
       "0                 None          None  \n",
       "1               hadoop       express  \n",
       "2                 None         flask  \n",
       "3  tensorflow, pytorch          None  \n",
       "4                 None          None  \n",
       "\n",
       "[5 rows x 29 columns]"
      ]
     },
     "execution_count": 38,
     "metadata": {},
     "output_type": "execute_result"
    }
   ],
   "source": [
    "df.head()"
   ]
  },
  {
   "cell_type": "code",
   "execution_count": 39,
   "id": "08948d16",
   "metadata": {},
   "outputs": [],
   "source": [
    "# df.to_csv('Cleaned DS Jobs.csv', index=False)"
   ]
  }
 ],
 "metadata": {
  "kernelspec": {
   "display_name": "Python 3 (ipykernel)",
   "language": "python",
   "name": "python3"
  },
  "language_info": {
   "codemirror_mode": {
    "name": "ipython",
    "version": 3
   },
   "file_extension": ".py",
   "mimetype": "text/x-python",
   "name": "python",
   "nbconvert_exporter": "python",
   "pygments_lexer": "ipython3",
   "version": "3.9.13"
  }
 },
 "nbformat": 4,
 "nbformat_minor": 5
}
